{
 "cells": [
  {
   "cell_type": "markdown",
   "metadata": {},
   "source": [
    "# PANDAS"
   ]
  },
  {
   "cell_type": "code",
   "execution_count": 84,
   "metadata": {},
   "outputs": [
    {
     "name": "stdout",
     "output_type": "stream",
     "text": [
      "1.19.5\n"
     ]
    }
   ],
   "source": [
    "import pandas as pd\n",
    "import numpy as np\n",
    "\n",
    "print(np.__version__)"
   ]
  },
  {
   "cell_type": "code",
   "execution_count": 85,
   "metadata": {},
   "outputs": [
    {
     "data": {
      "text/plain": [
       "a    -566.007681\n",
       "b    -127.046994\n",
       "c   -1560.815801\n",
       "d    -205.292226\n",
       "e     519.317477\n",
       "f    -467.112679\n",
       "g    -136.006125\n",
       "h    -992.459636\n",
       "i    1439.713700\n",
       "dtype: float64"
      ]
     },
     "execution_count": 85,
     "metadata": {},
     "output_type": "execute_result"
    }
   ],
   "source": [
    "n = np.random.randn(9)*1000\n",
    "arr = [x for x in \"abcdefghi\"]\n",
    "pd.Series(n, index = arr)\n"
   ]
  },
  {
   "cell_type": "code",
   "execution_count": 86,
   "metadata": {},
   "outputs": [
    {
     "data": {
      "text/plain": [
       "{'a': [-566.0076812537111, -1132.0153625074222, 320364.69523820264],\n",
       " 'b': [-127.04699448575931, -254.09398897151863, 16140.938807864557],\n",
       " 'c': [-1560.8158009182891, -3121.6316018365783, 2436145.9643962006],\n",
       " 'd': [-205.29222644013944, -410.5844528802789, 42144.89823674949],\n",
       " 'e': [519.3174765683527, 1038.6349531367055, 269690.64146932156],\n",
       " 'f': [-467.1126787241081, -934.2253574482162, 218194.25462481182],\n",
       " 'g': [-136.0061246349158, -272.0122492698316, 18497.66593820825],\n",
       " 'h': [-992.4596357550714, -1984.9192715101428, 984976.128603089],\n",
       " 'i': [1439.713700436285, 2879.42740087257, 2072775.5392239413]}"
      ]
     },
     "execution_count": 86,
     "metadata": {},
     "output_type": "execute_result"
    }
   ],
   "source": [
    "data = {x:[y,y+y,y*y] for x,y in zip(arr,n)}\n",
    "data"
   ]
  },
  {
   "cell_type": "code",
   "execution_count": 87,
   "metadata": {},
   "outputs": [
    {
     "data": {
      "text/html": [
       "<div>\n",
       "<style scoped>\n",
       "    .dataframe tbody tr th:only-of-type {\n",
       "        vertical-align: middle;\n",
       "    }\n",
       "\n",
       "    .dataframe tbody tr th {\n",
       "        vertical-align: top;\n",
       "    }\n",
       "\n",
       "    .dataframe thead th {\n",
       "        text-align: right;\n",
       "    }\n",
       "</style>\n",
       "<table border=\"1\" class=\"dataframe\">\n",
       "  <thead>\n",
       "    <tr style=\"text-align: right;\">\n",
       "      <th></th>\n",
       "      <th>a</th>\n",
       "      <th>b</th>\n",
       "      <th>c</th>\n",
       "      <th>d</th>\n",
       "      <th>e</th>\n",
       "      <th>f</th>\n",
       "      <th>g</th>\n",
       "      <th>h</th>\n",
       "      <th>i</th>\n",
       "    </tr>\n",
       "  </thead>\n",
       "  <tbody>\n",
       "    <tr>\n",
       "      <th>0</th>\n",
       "      <td>-566.007681</td>\n",
       "      <td>-127.046994</td>\n",
       "      <td>-1.560816e+03</td>\n",
       "      <td>-205.292226</td>\n",
       "      <td>519.317477</td>\n",
       "      <td>-467.112679</td>\n",
       "      <td>-136.006125</td>\n",
       "      <td>-992.459636</td>\n",
       "      <td>1.439714e+03</td>\n",
       "    </tr>\n",
       "    <tr>\n",
       "      <th>1</th>\n",
       "      <td>-1132.015363</td>\n",
       "      <td>-254.093989</td>\n",
       "      <td>-3.121632e+03</td>\n",
       "      <td>-410.584453</td>\n",
       "      <td>1038.634953</td>\n",
       "      <td>-934.225357</td>\n",
       "      <td>-272.012249</td>\n",
       "      <td>-1984.919272</td>\n",
       "      <td>2.879427e+03</td>\n",
       "    </tr>\n",
       "    <tr>\n",
       "      <th>2</th>\n",
       "      <td>320364.695238</td>\n",
       "      <td>16140.938808</td>\n",
       "      <td>2.436146e+06</td>\n",
       "      <td>42144.898237</td>\n",
       "      <td>269690.641469</td>\n",
       "      <td>218194.254625</td>\n",
       "      <td>18497.665938</td>\n",
       "      <td>984976.128603</td>\n",
       "      <td>2.072776e+06</td>\n",
       "    </tr>\n",
       "  </tbody>\n",
       "</table>\n",
       "</div>"
      ],
      "text/plain": [
       "               a             b             c             d              e  \\\n",
       "0    -566.007681   -127.046994 -1.560816e+03   -205.292226     519.317477   \n",
       "1   -1132.015363   -254.093989 -3.121632e+03   -410.584453    1038.634953   \n",
       "2  320364.695238  16140.938808  2.436146e+06  42144.898237  269690.641469   \n",
       "\n",
       "               f             g              h             i  \n",
       "0    -467.112679   -136.006125    -992.459636  1.439714e+03  \n",
       "1    -934.225357   -272.012249   -1984.919272  2.879427e+03  \n",
       "2  218194.254625  18497.665938  984976.128603  2.072776e+06  "
      ]
     },
     "execution_count": 87,
     "metadata": {},
     "output_type": "execute_result"
    }
   ],
   "source": [
    "df = pd.DataFrame(data)\n",
    "df"
   ]
  },
  {
   "cell_type": "code",
   "execution_count": 88,
   "metadata": {},
   "outputs": [
    {
     "data": {
      "text/html": [
       "<div>\n",
       "<style scoped>\n",
       "    .dataframe tbody tr th:only-of-type {\n",
       "        vertical-align: middle;\n",
       "    }\n",
       "\n",
       "    .dataframe tbody tr th {\n",
       "        vertical-align: top;\n",
       "    }\n",
       "\n",
       "    .dataframe thead th {\n",
       "        text-align: right;\n",
       "    }\n",
       "</style>\n",
       "<table border=\"1\" class=\"dataframe\">\n",
       "  <thead>\n",
       "    <tr style=\"text-align: right;\">\n",
       "      <th></th>\n",
       "      <th>a</th>\n",
       "      <th>b</th>\n",
       "      <th>c</th>\n",
       "      <th>d</th>\n",
       "      <th>e</th>\n",
       "      <th>f</th>\n",
       "      <th>g</th>\n",
       "      <th>h</th>\n",
       "      <th>i</th>\n",
       "    </tr>\n",
       "  </thead>\n",
       "  <tbody>\n",
       "    <tr>\n",
       "      <th>a</th>\n",
       "      <td>-566.007681</td>\n",
       "      <td>-127.046994</td>\n",
       "      <td>-1.560816e+03</td>\n",
       "      <td>-205.292226</td>\n",
       "      <td>519.317477</td>\n",
       "      <td>-467.112679</td>\n",
       "      <td>-136.006125</td>\n",
       "      <td>-992.459636</td>\n",
       "      <td>1.439714e+03</td>\n",
       "    </tr>\n",
       "    <tr>\n",
       "      <th>b</th>\n",
       "      <td>-1132.015363</td>\n",
       "      <td>-254.093989</td>\n",
       "      <td>-3.121632e+03</td>\n",
       "      <td>-410.584453</td>\n",
       "      <td>1038.634953</td>\n",
       "      <td>-934.225357</td>\n",
       "      <td>-272.012249</td>\n",
       "      <td>-1984.919272</td>\n",
       "      <td>2.879427e+03</td>\n",
       "    </tr>\n",
       "    <tr>\n",
       "      <th>c</th>\n",
       "      <td>320364.695238</td>\n",
       "      <td>16140.938808</td>\n",
       "      <td>2.436146e+06</td>\n",
       "      <td>42144.898237</td>\n",
       "      <td>269690.641469</td>\n",
       "      <td>218194.254625</td>\n",
       "      <td>18497.665938</td>\n",
       "      <td>984976.128603</td>\n",
       "      <td>2.072776e+06</td>\n",
       "    </tr>\n",
       "  </tbody>\n",
       "</table>\n",
       "</div>"
      ],
      "text/plain": [
       "               a             b             c             d              e  \\\n",
       "a    -566.007681   -127.046994 -1.560816e+03   -205.292226     519.317477   \n",
       "b   -1132.015363   -254.093989 -3.121632e+03   -410.584453    1038.634953   \n",
       "c  320364.695238  16140.938808  2.436146e+06  42144.898237  269690.641469   \n",
       "\n",
       "               f             g              h             i  \n",
       "a    -467.112679   -136.006125    -992.459636  1.439714e+03  \n",
       "b    -934.225357   -272.012249   -1984.919272  2.879427e+03  \n",
       "c  218194.254625  18497.665938  984976.128603  2.072776e+06  "
      ]
     },
     "execution_count": 88,
     "metadata": {},
     "output_type": "execute_result"
    }
   ],
   "source": [
    "df.index = arr[:3]\n",
    "df"
   ]
  },
  {
   "cell_type": "code",
   "execution_count": 89,
   "metadata": {},
   "outputs": [
    {
     "data": {
      "text/html": [
       "<div>\n",
       "<style scoped>\n",
       "    .dataframe tbody tr th:only-of-type {\n",
       "        vertical-align: middle;\n",
       "    }\n",
       "\n",
       "    .dataframe tbody tr th {\n",
       "        vertical-align: top;\n",
       "    }\n",
       "\n",
       "    .dataframe thead th {\n",
       "        text-align: right;\n",
       "    }\n",
       "</style>\n",
       "<table border=\"1\" class=\"dataframe\">\n",
       "  <thead>\n",
       "    <tr style=\"text-align: right;\">\n",
       "      <th></th>\n",
       "      <th>a</th>\n",
       "      <th>b</th>\n",
       "      <th>c</th>\n",
       "      <th>d</th>\n",
       "      <th>e</th>\n",
       "      <th>f</th>\n",
       "      <th>g</th>\n",
       "      <th>h</th>\n",
       "      <th>i</th>\n",
       "    </tr>\n",
       "  </thead>\n",
       "  <tbody>\n",
       "    <tr>\n",
       "      <th>a</th>\n",
       "      <td>-566.007681</td>\n",
       "      <td>-127.046994</td>\n",
       "      <td>-1.560816e+03</td>\n",
       "      <td>-205.292226</td>\n",
       "      <td>519.317477</td>\n",
       "      <td>-467.112679</td>\n",
       "      <td>-136.006125</td>\n",
       "      <td>-992.459636</td>\n",
       "      <td>1.439714e+03</td>\n",
       "    </tr>\n",
       "    <tr>\n",
       "      <th>c</th>\n",
       "      <td>320364.695238</td>\n",
       "      <td>16140.938808</td>\n",
       "      <td>2.436146e+06</td>\n",
       "      <td>42144.898237</td>\n",
       "      <td>269690.641469</td>\n",
       "      <td>218194.254625</td>\n",
       "      <td>18497.665938</td>\n",
       "      <td>984976.128603</td>\n",
       "      <td>2.072776e+06</td>\n",
       "    </tr>\n",
       "  </tbody>\n",
       "</table>\n",
       "</div>"
      ],
      "text/plain": [
       "               a             b             c             d              e  \\\n",
       "a    -566.007681   -127.046994 -1.560816e+03   -205.292226     519.317477   \n",
       "c  320364.695238  16140.938808  2.436146e+06  42144.898237  269690.641469   \n",
       "\n",
       "               f             g              h             i  \n",
       "a    -467.112679   -136.006125    -992.459636  1.439714e+03  \n",
       "c  218194.254625  18497.665938  984976.128603  2.072776e+06  "
      ]
     },
     "execution_count": 89,
     "metadata": {},
     "output_type": "execute_result"
    }
   ],
   "source": [
    "df.drop(\"b\")"
   ]
  },
  {
   "cell_type": "code",
   "execution_count": 95,
   "metadata": {},
   "outputs": [],
   "source": [
    "s1 = df[\"a\"]\n",
    "s2 = df[\"b\"]"
   ]
  },
  {
   "cell_type": "code",
   "execution_count": 100,
   "metadata": {},
   "outputs": [
    {
     "data": {
      "text/plain": [
       "a      -693.054676\n",
       "b     -1386.109351\n",
       "c    336505.634046\n",
       "dtype: float64"
      ]
     },
     "execution_count": 100,
     "metadata": {},
     "output_type": "execute_result"
    }
   ],
   "source": [
    "s1.add(s2)"
   ]
  },
  {
   "cell_type": "code",
   "execution_count": 101,
   "metadata": {},
   "outputs": [
    {
     "data": {
      "text/plain": [
       "a      -438.960687\n",
       "b      -877.921374\n",
       "c    304223.756430\n",
       "dtype: float64"
      ]
     },
     "execution_count": 101,
     "metadata": {},
     "output_type": "execute_result"
    }
   ],
   "source": [
    "s1.sub(s2)"
   ]
  },
  {
   "cell_type": "code",
   "execution_count": 102,
   "metadata": {},
   "outputs": [
    {
     "data": {
      "text/plain": [
       "a    7.190957e+04\n",
       "b    2.876383e+05\n",
       "c    5.170987e+09\n",
       "dtype: float64"
      ]
     },
     "execution_count": 102,
     "metadata": {},
     "output_type": "execute_result"
    }
   ],
   "source": [
    "s1.mul(s2)"
   ]
  },
  {
   "cell_type": "code",
   "execution_count": 103,
   "metadata": {},
   "outputs": [
    {
     "data": {
      "text/plain": [
       "a     4.455105\n",
       "b     4.455105\n",
       "c    19.847959\n",
       "dtype: float64"
      ]
     },
     "execution_count": 103,
     "metadata": {},
     "output_type": "execute_result"
    }
   ],
   "source": [
    "s1.div(s2)"
   ]
  },
  {
   "cell_type": "code",
   "execution_count": 104,
   "metadata": {},
   "outputs": [
    {
     "data": {
      "text/plain": [
       "106222.22406481382"
      ]
     },
     "execution_count": 104,
     "metadata": {},
     "output_type": "execute_result"
    }
   ],
   "source": [
    "s1.mean()"
   ]
  },
  {
   "cell_type": "code",
   "execution_count": 105,
   "metadata": {},
   "outputs": [
    {
     "data": {
      "text/plain": [
       "-566.0076812537111"
      ]
     },
     "execution_count": 105,
     "metadata": {},
     "output_type": "execute_result"
    }
   ],
   "source": [
    "s1.median()"
   ]
  },
  {
   "cell_type": "code",
   "execution_count": 106,
   "metadata": {},
   "outputs": [
    {
     "data": {
      "text/plain": [
       "320364.69523820264"
      ]
     },
     "execution_count": 106,
     "metadata": {},
     "output_type": "execute_result"
    }
   ],
   "source": [
    "s1.max()"
   ]
  },
  {
   "cell_type": "code",
   "execution_count": 177,
   "metadata": {},
   "outputs": [
    {
     "data": {
      "text/plain": [
       "-1132.0153625074222"
      ]
     },
     "execution_count": 177,
     "metadata": {},
     "output_type": "execute_result"
    }
   ],
   "source": [
    "s1.min()"
   ]
  },
  {
   "cell_type": "code",
   "execution_count": 178,
   "metadata": {},
   "outputs": [
    {
     "data": {
      "text/plain": [
       "DatetimeIndex(['2021-05-05', '2021-05-06', '2021-05-07', '2021-05-08',\n",
       "               '2021-05-09', '2021-05-10', '2021-05-11', '2021-05-12'],\n",
       "              dtype='datetime64[ns]', freq='D')"
      ]
     },
     "execution_count": 178,
     "metadata": {},
     "output_type": "execute_result"
    }
   ],
   "source": [
    "dates = pd.date_range(\"2021-05-05\", periods=8)\n",
    "dates"
   ]
  },
  {
   "cell_type": "code",
   "execution_count": 179,
   "metadata": {},
   "outputs": [
    {
     "data": {
      "text/plain": [
       "DatetimeIndex(['2021-05-05', '2021-05-06', '2021-05-07', '2021-05-08',\n",
       "               '2021-05-09', '2021-05-10', '2021-05-11', '2021-05-12'],\n",
       "              dtype='datetime64[ns]', freq='D')"
      ]
     },
     "execution_count": 179,
     "metadata": {},
     "output_type": "execute_result"
    }
   ],
   "source": [
    "col = [x for x in \"abcdefgh\"]\n",
    "arr1 = np.random.randn(8,8)*1000\n",
    "dates"
   ]
  },
  {
   "cell_type": "code",
   "execution_count": 180,
   "metadata": {},
   "outputs": [
    {
     "data": {
      "text/html": [
       "<div>\n",
       "<style scoped>\n",
       "    .dataframe tbody tr th:only-of-type {\n",
       "        vertical-align: middle;\n",
       "    }\n",
       "\n",
       "    .dataframe tbody tr th {\n",
       "        vertical-align: top;\n",
       "    }\n",
       "\n",
       "    .dataframe thead th {\n",
       "        text-align: right;\n",
       "    }\n",
       "</style>\n",
       "<table border=\"1\" class=\"dataframe\">\n",
       "  <thead>\n",
       "    <tr style=\"text-align: right;\">\n",
       "      <th></th>\n",
       "      <th>a</th>\n",
       "      <th>b</th>\n",
       "      <th>c</th>\n",
       "      <th>d</th>\n",
       "      <th>e</th>\n",
       "      <th>f</th>\n",
       "      <th>g</th>\n",
       "      <th>h</th>\n",
       "    </tr>\n",
       "  </thead>\n",
       "  <tbody>\n",
       "    <tr>\n",
       "      <th>2021-05-05</th>\n",
       "      <td>-620.954254</td>\n",
       "      <td>-689.088745</td>\n",
       "      <td>-94.366983</td>\n",
       "      <td>657.449380</td>\n",
       "      <td>-371.312545</td>\n",
       "      <td>-809.297131</td>\n",
       "      <td>759.822608</td>\n",
       "      <td>-2434.855274</td>\n",
       "    </tr>\n",
       "    <tr>\n",
       "      <th>2021-05-06</th>\n",
       "      <td>993.549898</td>\n",
       "      <td>1844.966383</td>\n",
       "      <td>26.059431</td>\n",
       "      <td>9.727391</td>\n",
       "      <td>1025.279652</td>\n",
       "      <td>-23.885711</td>\n",
       "      <td>-255.592330</td>\n",
       "      <td>1373.966812</td>\n",
       "    </tr>\n",
       "    <tr>\n",
       "      <th>2021-05-07</th>\n",
       "      <td>-51.056709</td>\n",
       "      <td>717.278927</td>\n",
       "      <td>-242.857243</td>\n",
       "      <td>211.785725</td>\n",
       "      <td>4.228716</td>\n",
       "      <td>-965.102671</td>\n",
       "      <td>284.493821</td>\n",
       "      <td>-46.301641</td>\n",
       "    </tr>\n",
       "    <tr>\n",
       "      <th>2021-05-08</th>\n",
       "      <td>727.044263</td>\n",
       "      <td>285.156579</td>\n",
       "      <td>-713.177005</td>\n",
       "      <td>-1044.630299</td>\n",
       "      <td>-935.217731</td>\n",
       "      <td>381.564427</td>\n",
       "      <td>-855.915402</td>\n",
       "      <td>-1090.191581</td>\n",
       "    </tr>\n",
       "    <tr>\n",
       "      <th>2021-05-09</th>\n",
       "      <td>-1386.377833</td>\n",
       "      <td>287.410056</td>\n",
       "      <td>-1413.344377</td>\n",
       "      <td>-337.333178</td>\n",
       "      <td>205.490215</td>\n",
       "      <td>-845.667286</td>\n",
       "      <td>-1217.541280</td>\n",
       "      <td>143.183302</td>\n",
       "    </tr>\n",
       "    <tr>\n",
       "      <th>2021-05-10</th>\n",
       "      <td>1970.802502</td>\n",
       "      <td>357.531028</td>\n",
       "      <td>-130.104188</td>\n",
       "      <td>-539.920148</td>\n",
       "      <td>-642.935212</td>\n",
       "      <td>1160.087396</td>\n",
       "      <td>-781.395461</td>\n",
       "      <td>-334.812834</td>\n",
       "    </tr>\n",
       "    <tr>\n",
       "      <th>2021-05-11</th>\n",
       "      <td>534.873575</td>\n",
       "      <td>772.885690</td>\n",
       "      <td>777.375924</td>\n",
       "      <td>-682.619648</td>\n",
       "      <td>318.563574</td>\n",
       "      <td>-1164.255893</td>\n",
       "      <td>-752.563553</td>\n",
       "      <td>-1295.863214</td>\n",
       "    </tr>\n",
       "    <tr>\n",
       "      <th>2021-05-12</th>\n",
       "      <td>1727.205580</td>\n",
       "      <td>-1299.021860</td>\n",
       "      <td>227.427134</td>\n",
       "      <td>-315.755163</td>\n",
       "      <td>196.088654</td>\n",
       "      <td>1015.715397</td>\n",
       "      <td>-482.288822</td>\n",
       "      <td>737.459466</td>\n",
       "    </tr>\n",
       "  </tbody>\n",
       "</table>\n",
       "</div>"
      ],
      "text/plain": [
       "                      a            b            c            d            e  \\\n",
       "2021-05-05  -620.954254  -689.088745   -94.366983   657.449380  -371.312545   \n",
       "2021-05-06   993.549898  1844.966383    26.059431     9.727391  1025.279652   \n",
       "2021-05-07   -51.056709   717.278927  -242.857243   211.785725     4.228716   \n",
       "2021-05-08   727.044263   285.156579  -713.177005 -1044.630299  -935.217731   \n",
       "2021-05-09 -1386.377833   287.410056 -1413.344377  -337.333178   205.490215   \n",
       "2021-05-10  1970.802502   357.531028  -130.104188  -539.920148  -642.935212   \n",
       "2021-05-11   534.873575   772.885690   777.375924  -682.619648   318.563574   \n",
       "2021-05-12  1727.205580 -1299.021860   227.427134  -315.755163   196.088654   \n",
       "\n",
       "                      f            g            h  \n",
       "2021-05-05  -809.297131   759.822608 -2434.855274  \n",
       "2021-05-06   -23.885711  -255.592330  1373.966812  \n",
       "2021-05-07  -965.102671   284.493821   -46.301641  \n",
       "2021-05-08   381.564427  -855.915402 -1090.191581  \n",
       "2021-05-09  -845.667286 -1217.541280   143.183302  \n",
       "2021-05-10  1160.087396  -781.395461  -334.812834  \n",
       "2021-05-11 -1164.255893  -752.563553 -1295.863214  \n",
       "2021-05-12  1015.715397  -482.288822   737.459466  "
      ]
     },
     "execution_count": 180,
     "metadata": {},
     "output_type": "execute_result"
    }
   ],
   "source": [
    "df1 = pd.DataFrame(arr1, index=dates, columns=col)\n",
    "df1"
   ]
  },
  {
   "cell_type": "code",
   "execution_count": 181,
   "metadata": {},
   "outputs": [
    {
     "data": {
      "text/plain": [
       "a    float64\n",
       "b    float64\n",
       "c    float64\n",
       "d    float64\n",
       "e    float64\n",
       "f    float64\n",
       "g    float64\n",
       "h    float64\n",
       "dtype: object"
      ]
     },
     "execution_count": 181,
     "metadata": {},
     "output_type": "execute_result"
    }
   ],
   "source": [
    "df1.dtypes"
   ]
  },
  {
   "cell_type": "code",
   "execution_count": 182,
   "metadata": {},
   "outputs": [
    {
     "data": {
      "text/html": [
       "<div>\n",
       "<style scoped>\n",
       "    .dataframe tbody tr th:only-of-type {\n",
       "        vertical-align: middle;\n",
       "    }\n",
       "\n",
       "    .dataframe tbody tr th {\n",
       "        vertical-align: top;\n",
       "    }\n",
       "\n",
       "    .dataframe thead th {\n",
       "        text-align: right;\n",
       "    }\n",
       "</style>\n",
       "<table border=\"1\" class=\"dataframe\">\n",
       "  <thead>\n",
       "    <tr style=\"text-align: right;\">\n",
       "      <th></th>\n",
       "      <th>a</th>\n",
       "      <th>b</th>\n",
       "      <th>c</th>\n",
       "      <th>d</th>\n",
       "      <th>e</th>\n",
       "      <th>f</th>\n",
       "      <th>g</th>\n",
       "      <th>h</th>\n",
       "    </tr>\n",
       "  </thead>\n",
       "  <tbody>\n",
       "    <tr>\n",
       "      <th>2021-05-05</th>\n",
       "      <td>-620.954254</td>\n",
       "      <td>-689.088745</td>\n",
       "      <td>-94.366983</td>\n",
       "      <td>657.449380</td>\n",
       "      <td>-371.312545</td>\n",
       "      <td>-809.297131</td>\n",
       "      <td>759.822608</td>\n",
       "      <td>-2434.855274</td>\n",
       "    </tr>\n",
       "    <tr>\n",
       "      <th>2021-05-06</th>\n",
       "      <td>993.549898</td>\n",
       "      <td>1844.966383</td>\n",
       "      <td>26.059431</td>\n",
       "      <td>9.727391</td>\n",
       "      <td>1025.279652</td>\n",
       "      <td>-23.885711</td>\n",
       "      <td>-255.592330</td>\n",
       "      <td>1373.966812</td>\n",
       "    </tr>\n",
       "    <tr>\n",
       "      <th>2021-05-07</th>\n",
       "      <td>-51.056709</td>\n",
       "      <td>717.278927</td>\n",
       "      <td>-242.857243</td>\n",
       "      <td>211.785725</td>\n",
       "      <td>4.228716</td>\n",
       "      <td>-965.102671</td>\n",
       "      <td>284.493821</td>\n",
       "      <td>-46.301641</td>\n",
       "    </tr>\n",
       "    <tr>\n",
       "      <th>2021-05-08</th>\n",
       "      <td>727.044263</td>\n",
       "      <td>285.156579</td>\n",
       "      <td>-713.177005</td>\n",
       "      <td>-1044.630299</td>\n",
       "      <td>-935.217731</td>\n",
       "      <td>381.564427</td>\n",
       "      <td>-855.915402</td>\n",
       "      <td>-1090.191581</td>\n",
       "    </tr>\n",
       "    <tr>\n",
       "      <th>2021-05-09</th>\n",
       "      <td>-1386.377833</td>\n",
       "      <td>287.410056</td>\n",
       "      <td>-1413.344377</td>\n",
       "      <td>-337.333178</td>\n",
       "      <td>205.490215</td>\n",
       "      <td>-845.667286</td>\n",
       "      <td>-1217.541280</td>\n",
       "      <td>143.183302</td>\n",
       "    </tr>\n",
       "  </tbody>\n",
       "</table>\n",
       "</div>"
      ],
      "text/plain": [
       "                      a            b            c            d            e  \\\n",
       "2021-05-05  -620.954254  -689.088745   -94.366983   657.449380  -371.312545   \n",
       "2021-05-06   993.549898  1844.966383    26.059431     9.727391  1025.279652   \n",
       "2021-05-07   -51.056709   717.278927  -242.857243   211.785725     4.228716   \n",
       "2021-05-08   727.044263   285.156579  -713.177005 -1044.630299  -935.217731   \n",
       "2021-05-09 -1386.377833   287.410056 -1413.344377  -337.333178   205.490215   \n",
       "\n",
       "                     f            g            h  \n",
       "2021-05-05 -809.297131   759.822608 -2434.855274  \n",
       "2021-05-06  -23.885711  -255.592330  1373.966812  \n",
       "2021-05-07 -965.102671   284.493821   -46.301641  \n",
       "2021-05-08  381.564427  -855.915402 -1090.191581  \n",
       "2021-05-09 -845.667286 -1217.541280   143.183302  "
      ]
     },
     "execution_count": 182,
     "metadata": {},
     "output_type": "execute_result"
    }
   ],
   "source": [
    "df1.head()"
   ]
  },
  {
   "cell_type": "code",
   "execution_count": 183,
   "metadata": {},
   "outputs": [
    {
     "data": {
      "text/html": [
       "<div>\n",
       "<style scoped>\n",
       "    .dataframe tbody tr th:only-of-type {\n",
       "        vertical-align: middle;\n",
       "    }\n",
       "\n",
       "    .dataframe tbody tr th {\n",
       "        vertical-align: top;\n",
       "    }\n",
       "\n",
       "    .dataframe thead th {\n",
       "        text-align: right;\n",
       "    }\n",
       "</style>\n",
       "<table border=\"1\" class=\"dataframe\">\n",
       "  <thead>\n",
       "    <tr style=\"text-align: right;\">\n",
       "      <th></th>\n",
       "      <th>a</th>\n",
       "      <th>b</th>\n",
       "      <th>c</th>\n",
       "      <th>d</th>\n",
       "      <th>e</th>\n",
       "      <th>f</th>\n",
       "      <th>g</th>\n",
       "      <th>h</th>\n",
       "    </tr>\n",
       "  </thead>\n",
       "  <tbody>\n",
       "    <tr>\n",
       "      <th>2021-05-08</th>\n",
       "      <td>727.044263</td>\n",
       "      <td>285.156579</td>\n",
       "      <td>-713.177005</td>\n",
       "      <td>-1044.630299</td>\n",
       "      <td>-935.217731</td>\n",
       "      <td>381.564427</td>\n",
       "      <td>-855.915402</td>\n",
       "      <td>-1090.191581</td>\n",
       "    </tr>\n",
       "    <tr>\n",
       "      <th>2021-05-09</th>\n",
       "      <td>-1386.377833</td>\n",
       "      <td>287.410056</td>\n",
       "      <td>-1413.344377</td>\n",
       "      <td>-337.333178</td>\n",
       "      <td>205.490215</td>\n",
       "      <td>-845.667286</td>\n",
       "      <td>-1217.541280</td>\n",
       "      <td>143.183302</td>\n",
       "    </tr>\n",
       "    <tr>\n",
       "      <th>2021-05-10</th>\n",
       "      <td>1970.802502</td>\n",
       "      <td>357.531028</td>\n",
       "      <td>-130.104188</td>\n",
       "      <td>-539.920148</td>\n",
       "      <td>-642.935212</td>\n",
       "      <td>1160.087396</td>\n",
       "      <td>-781.395461</td>\n",
       "      <td>-334.812834</td>\n",
       "    </tr>\n",
       "    <tr>\n",
       "      <th>2021-05-11</th>\n",
       "      <td>534.873575</td>\n",
       "      <td>772.885690</td>\n",
       "      <td>777.375924</td>\n",
       "      <td>-682.619648</td>\n",
       "      <td>318.563574</td>\n",
       "      <td>-1164.255893</td>\n",
       "      <td>-752.563553</td>\n",
       "      <td>-1295.863214</td>\n",
       "    </tr>\n",
       "    <tr>\n",
       "      <th>2021-05-12</th>\n",
       "      <td>1727.205580</td>\n",
       "      <td>-1299.021860</td>\n",
       "      <td>227.427134</td>\n",
       "      <td>-315.755163</td>\n",
       "      <td>196.088654</td>\n",
       "      <td>1015.715397</td>\n",
       "      <td>-482.288822</td>\n",
       "      <td>737.459466</td>\n",
       "    </tr>\n",
       "  </tbody>\n",
       "</table>\n",
       "</div>"
      ],
      "text/plain": [
       "                      a            b            c            d           e  \\\n",
       "2021-05-08   727.044263   285.156579  -713.177005 -1044.630299 -935.217731   \n",
       "2021-05-09 -1386.377833   287.410056 -1413.344377  -337.333178  205.490215   \n",
       "2021-05-10  1970.802502   357.531028  -130.104188  -539.920148 -642.935212   \n",
       "2021-05-11   534.873575   772.885690   777.375924  -682.619648  318.563574   \n",
       "2021-05-12  1727.205580 -1299.021860   227.427134  -315.755163  196.088654   \n",
       "\n",
       "                      f            g            h  \n",
       "2021-05-08   381.564427  -855.915402 -1090.191581  \n",
       "2021-05-09  -845.667286 -1217.541280   143.183302  \n",
       "2021-05-10  1160.087396  -781.395461  -334.812834  \n",
       "2021-05-11 -1164.255893  -752.563553 -1295.863214  \n",
       "2021-05-12  1015.715397  -482.288822   737.459466  "
      ]
     },
     "execution_count": 183,
     "metadata": {},
     "output_type": "execute_result"
    }
   ],
   "source": [
    "df1.tail()"
   ]
  },
  {
   "cell_type": "code",
   "execution_count": 184,
   "metadata": {},
   "outputs": [
    {
     "data": {
      "text/plain": [
       "DatetimeIndex(['2021-05-05', '2021-05-06', '2021-05-07', '2021-05-08',\n",
       "               '2021-05-09', '2021-05-10', '2021-05-11', '2021-05-12'],\n",
       "              dtype='datetime64[ns]', freq='D')"
      ]
     },
     "execution_count": 184,
     "metadata": {},
     "output_type": "execute_result"
    }
   ],
   "source": [
    "df1.index"
   ]
  },
  {
   "cell_type": "code",
   "execution_count": 185,
   "metadata": {},
   "outputs": [
    {
     "data": {
      "text/plain": [
       "Index(['a', 'b', 'c', 'd', 'e', 'f', 'g', 'h'], dtype='object')"
      ]
     },
     "execution_count": 185,
     "metadata": {},
     "output_type": "execute_result"
    }
   ],
   "source": [
    "df1.columns"
   ]
  },
  {
   "cell_type": "code",
   "execution_count": 186,
   "metadata": {},
   "outputs": [
    {
     "data": {
      "text/plain": [
       "array([[ -620.95425351,  -689.08874454,   -94.36698281,   657.44938037,\n",
       "         -371.31254478,  -809.29713095,   759.82260823, -2434.85527375],\n",
       "       [  993.54989763,  1844.96638277,    26.05943096,     9.72739068,\n",
       "         1025.27965238,   -23.88571076,  -255.59233   ,  1373.96681195],\n",
       "       [  -51.05670932,   717.27892705,  -242.85724274,   211.78572458,\n",
       "            4.22871578,  -965.10267148,   284.4938206 ,   -46.30164117],\n",
       "       [  727.04426284,   285.15657882,  -713.17700471, -1044.63029908,\n",
       "         -935.21773118,   381.56442695,  -855.91540228, -1090.1915806 ],\n",
       "       [-1386.37783302,   287.41005627, -1413.3443768 ,  -337.33317789,\n",
       "          205.4902145 ,  -845.66728602, -1217.54128016,   143.18330231],\n",
       "       [ 1970.80250178,   357.531028  ,  -130.10418768,  -539.92014847,\n",
       "         -642.93521203,  1160.08739606,  -781.39546095,  -334.812834  ],\n",
       "       [  534.87357494,   772.88569025,   777.37592383,  -682.61964838,\n",
       "          318.56357418, -1164.25589262,  -752.563553  , -1295.86321442],\n",
       "       [ 1727.20558   , -1299.02186001,   227.42713362,  -315.75516326,\n",
       "          196.08865416,  1015.71539726,  -482.28882157,   737.45946609]])"
      ]
     },
     "execution_count": 186,
     "metadata": {},
     "output_type": "execute_result"
    }
   ],
   "source": [
    "df1.values"
   ]
  },
  {
   "cell_type": "code",
   "execution_count": null,
   "metadata": {},
   "outputs": [],
   "source": []
  }
 ],
 "metadata": {
  "interpreter": {
   "hash": "d66d0557afbea81240a3a5d2d5b4599bf8bee2732053be4cc8098b9d77804afa"
  },
  "kernelspec": {
   "display_name": "Python 3.9.6 64-bit",
   "name": "python3"
  },
  "language_info": {
   "codemirror_mode": {
    "name": "ipython",
    "version": 3
   },
   "file_extension": ".py",
   "mimetype": "text/x-python",
   "name": "python",
   "nbconvert_exporter": "python",
   "pygments_lexer": "ipython3",
   "version": "3.9.6"
  },
  "orig_nbformat": 4
 },
 "nbformat": 4,
 "nbformat_minor": 2
}
