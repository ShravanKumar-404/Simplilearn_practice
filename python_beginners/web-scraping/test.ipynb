{
 "cells": [
  {
   "cell_type": "code",
   "execution_count": 321,
   "metadata": {},
   "outputs": [],
   "source": [
    "import pandas as pd\n",
    "import numpy as np\n",
    "import matplotlib.pyplot as plt\n",
    "\n",
    "%matplotlib inline\n",
    "\n",
    "from urllib.request import urlopen\n",
    "from bs4 import BeautifulSoup as BS\n",
    "import re"
   ]
  },
  {
   "cell_type": "code",
   "execution_count": 322,
   "metadata": {},
   "outputs": [],
   "source": [
    "website = 'https://www.hubertiming.com/results/2018MLK'\n",
    "html = urlopen(website)"
   ]
  },
  {
   "cell_type": "code",
   "execution_count": 323,
   "metadata": {},
   "outputs": [],
   "source": [
    "soup = BS(html)"
   ]
  },
  {
   "cell_type": "code",
   "execution_count": 324,
   "metadata": {},
   "outputs": [
    {
     "data": {
      "text/plain": [
       "'Race results for the 2018 MLK Dream Run!'"
      ]
     },
     "execution_count": 324,
     "metadata": {},
     "output_type": "execute_result"
    }
   ],
   "source": [
    "title = soup.title\n",
    "title.text"
   ]
  },
  {
   "cell_type": "code",
   "execution_count": 325,
   "metadata": {},
   "outputs": [
    {
     "name": "stdout",
     "output_type": "stream",
     "text": [
      "https://www.mlkdreamrun.com/\n",
      "mailto:timing@hubertiming.com\n",
      "https://www.hubertiming.com/\n",
      "/results/2018MLK10K#individual\n",
      "/results/2018MLK15K#individual\n",
      "/results/summary/2018MLK\n",
      "#tabs-1\n",
      "https://www.hubertiming.com/\n",
      "https://facebook.com/hubertiming/\n"
     ]
    }
   ],
   "source": [
    "links = soup.find_all('a', href=True)\n",
    "for x in links:\n",
    "  print(x['href'])"
   ]
  },
  {
   "cell_type": "code",
   "execution_count": 326,
   "metadata": {},
   "outputs": [
    {
     "data": {
      "text/plain": [
       "['Place',\n",
       " 'Bib',\n",
       " 'Name',\n",
       " 'Gender',\n",
       " 'Age',\n",
       " 'City',\n",
       " 'State',\n",
       " 'Chip Time',\n",
       " 'Chip Pace',\n",
       " 'Gender Place',\n",
       " 'Age Group',\n",
       " 'Age Group Place',\n",
       " 'Time to Start',\n",
       " 'Gun Time']"
      ]
     },
     "execution_count": 326,
     "metadata": {},
     "output_type": "execute_result"
    }
   ],
   "source": [
    "tr = soup.find_all(\"tr\")\n",
    "\n",
    "rows_tr = [[x.text.strip('\\n')] for x in tr]\n",
    "rows = [i.split(\"\\n\") for x in rows_tr[4:] for i in x]\n",
    "\n",
    "column_labels = rows[0]\n",
    "column_labels\n",
    " "
   ]
  },
  {
   "cell_type": "code",
   "execution_count": 330,
   "metadata": {},
   "outputs": [
    {
     "data": {
      "text/plain": [
       "['1',\n",
       " '1191',\n",
       " 'MAX RANDOLPH',\n",
       " '',\n",
       " 'M',\n",
       " '29',\n",
       " 'WASHINGTON',\n",
       " 'DC',\n",
       " '16:48',\n",
       " '5:25',\n",
       " '1 of 78',\n",
       " '',\n",
       " 'M 21-39',\n",
       " '1 of 33',\n",
       " '',\n",
       " '0:08',\n",
       " '16:56']"
      ]
     },
     "execution_count": 330,
     "metadata": {},
     "output_type": "execute_result"
    }
   ],
   "source": [
    "data = []\n",
    "for x in rows[1:]:\n",
    "  i = [y.strip() for y in x if y != \"\\r\" and y!= \" \"]\n",
    "  data.append(i)\n",
    "data[0]"
   ]
  },
  {
   "cell_type": "code",
   "execution_count": 328,
   "metadata": {},
   "outputs": [
    {
     "name": "stdout",
     "output_type": "stream",
     "text": [
      "['Place', 'Bib', 'Name', 'Gender', 'Age', 'City', 'State', 'Chip Time', 'Chip Pace', 'Gender Place', 'Age Group', 'Age Group Place', 'Time to Start', 'Gun Time']\n"
     ]
    },
    {
     "data": {
      "text/html": [
       "<div>\n",
       "<style scoped>\n",
       "    .dataframe tbody tr th:only-of-type {\n",
       "        vertical-align: middle;\n",
       "    }\n",
       "\n",
       "    .dataframe tbody tr th {\n",
       "        vertical-align: top;\n",
       "    }\n",
       "\n",
       "    .dataframe thead th {\n",
       "        text-align: right;\n",
       "    }\n",
       "</style>\n",
       "<table border=\"1\" class=\"dataframe\">\n",
       "  <thead>\n",
       "    <tr style=\"text-align: right;\">\n",
       "      <th></th>\n",
       "      <th>Place</th>\n",
       "      <th>Bib</th>\n",
       "      <th>Name</th>\n",
       "      <th>Gender</th>\n",
       "      <th>Age</th>\n",
       "      <th>City</th>\n",
       "      <th>State</th>\n",
       "      <th>Chip Time</th>\n",
       "      <th>Chip Pace</th>\n",
       "      <th>Gender Place</th>\n",
       "      <th>Age Group</th>\n",
       "      <th>Age Group Place</th>\n",
       "      <th>Time to Start</th>\n",
       "      <th>Gun Time</th>\n",
       "    </tr>\n",
       "  </thead>\n",
       "  <tbody>\n",
       "    <tr>\n",
       "      <th>0</th>\n",
       "      <td>1</td>\n",
       "      <td>1191</td>\n",
       "      <td>MAX RANDOLPH</td>\n",
       "      <td>M</td>\n",
       "      <td>29</td>\n",
       "      <td>WASHINGTON</td>\n",
       "      <td>DC</td>\n",
       "      <td>16:48</td>\n",
       "      <td>5:25</td>\n",
       "      <td>1 of 78</td>\n",
       "      <td>M 21-39</td>\n",
       "      <td>1 of 33</td>\n",
       "      <td>0:08</td>\n",
       "      <td>16:56</td>\n",
       "    </tr>\n",
       "    <tr>\n",
       "      <th>1</th>\n",
       "      <td>2</td>\n",
       "      <td>1080</td>\n",
       "      <td>NEED NAME KAISER RUNNER</td>\n",
       "      <td>M</td>\n",
       "      <td>25</td>\n",
       "      <td>PORTLAND</td>\n",
       "      <td>OR</td>\n",
       "      <td>17:31</td>\n",
       "      <td>5:39</td>\n",
       "      <td>2 of 78</td>\n",
       "      <td>M 21-39</td>\n",
       "      <td>2 of 33</td>\n",
       "      <td>0:09</td>\n",
       "      <td>17:40</td>\n",
       "    </tr>\n",
       "    <tr>\n",
       "      <th>2</th>\n",
       "      <td>3</td>\n",
       "      <td>1275</td>\n",
       "      <td>DAN FRANEK</td>\n",
       "      <td>M</td>\n",
       "      <td>52</td>\n",
       "      <td>PORTLAND</td>\n",
       "      <td>OR</td>\n",
       "      <td>18:15</td>\n",
       "      <td>5:53</td>\n",
       "      <td>3 of 78</td>\n",
       "      <td>M 40-54</td>\n",
       "      <td>1 of 27</td>\n",
       "      <td>0:07</td>\n",
       "      <td>18:22</td>\n",
       "    </tr>\n",
       "    <tr>\n",
       "      <th>3</th>\n",
       "      <td>4</td>\n",
       "      <td>1223</td>\n",
       "      <td>PAUL TAYLOR</td>\n",
       "      <td>M</td>\n",
       "      <td>54</td>\n",
       "      <td>PORTLAND</td>\n",
       "      <td>OR</td>\n",
       "      <td>18:31</td>\n",
       "      <td>5:58</td>\n",
       "      <td>4 of 78</td>\n",
       "      <td>M 40-54</td>\n",
       "      <td>2 of 27</td>\n",
       "      <td>0:07</td>\n",
       "      <td>18:38</td>\n",
       "    </tr>\n",
       "    <tr>\n",
       "      <th>4</th>\n",
       "      <td>5</td>\n",
       "      <td>1245</td>\n",
       "      <td>THEO KINMAN</td>\n",
       "      <td>M</td>\n",
       "      <td>22</td>\n",
       "      <td>NaN</td>\n",
       "      <td>NaN</td>\n",
       "      <td>19:31</td>\n",
       "      <td>6:17</td>\n",
       "      <td>5 of 78</td>\n",
       "      <td>M 21-39</td>\n",
       "      <td>3 of 33</td>\n",
       "      <td>0:09</td>\n",
       "      <td>19:40</td>\n",
       "    </tr>\n",
       "  </tbody>\n",
       "</table>\n",
       "</div>"
      ],
      "text/plain": [
       "  Place   Bib                     Name Gender Age        City State Chip Time  \\\n",
       "0     1  1191             MAX RANDOLPH      M  29  WASHINGTON    DC     16:48   \n",
       "1     2  1080  NEED NAME KAISER RUNNER      M  25    PORTLAND    OR     17:31   \n",
       "2     3  1275               DAN FRANEK      M  52    PORTLAND    OR     18:15   \n",
       "3     4  1223              PAUL TAYLOR      M  54    PORTLAND    OR     18:31   \n",
       "4     5  1245              THEO KINMAN      M  22         NaN   NaN     19:31   \n",
       "\n",
       "  Chip Pace Gender Place Age Group Age Group Place Time to Start Gun Time  \n",
       "0      5:25      1 of 78   M 21-39         1 of 33          0:08    16:56  \n",
       "1      5:39      2 of 78   M 21-39         2 of 33          0:09    17:40  \n",
       "2      5:53      3 of 78   M 40-54         1 of 27          0:07    18:22  \n",
       "3      5:58      4 of 78   M 40-54         2 of 27          0:07    18:38  \n",
       "4      6:17      5 of 78   M 21-39         3 of 33          0:09    19:40  "
      ]
     },
     "execution_count": 328,
     "metadata": {},
     "output_type": "execute_result"
    }
   ],
   "source": [
    "print(column_labels)\n",
    "\n",
    "df = pd.DataFrame(data)\n",
    "df.replace(\"\", float(\"NaN\"), inplace=True)\n",
    "df.dropna(how='all', axis=1, inplace=True)\n",
    "df.columns = column_labels\n",
    "df.head()"
   ]
  },
  {
   "cell_type": "code",
   "execution_count": 352,
   "metadata": {},
   "outputs": [
    {
     "data": {
      "text/html": [
       "<div>\n",
       "<style scoped>\n",
       "    .dataframe tbody tr th:only-of-type {\n",
       "        vertical-align: middle;\n",
       "    }\n",
       "\n",
       "    .dataframe tbody tr th {\n",
       "        vertical-align: top;\n",
       "    }\n",
       "\n",
       "    .dataframe thead th {\n",
       "        text-align: right;\n",
       "    }\n",
       "</style>\n",
       "<table border=\"1\" class=\"dataframe\">\n",
       "  <thead>\n",
       "    <tr style=\"text-align: right;\">\n",
       "      <th></th>\n",
       "      <th>Place</th>\n",
       "      <th>Bib</th>\n",
       "      <th>Name</th>\n",
       "      <th>Gender</th>\n",
       "      <th>Age</th>\n",
       "      <th>City</th>\n",
       "      <th>State</th>\n",
       "      <th>Chip Time</th>\n",
       "      <th>Chip Pace</th>\n",
       "      <th>Gender Place</th>\n",
       "      <th>Age Group</th>\n",
       "      <th>Age Group Place</th>\n",
       "      <th>Time to Start</th>\n",
       "      <th>Gun Time</th>\n",
       "    </tr>\n",
       "  </thead>\n",
       "  <tbody>\n",
       "    <tr>\n",
       "      <th>0</th>\n",
       "      <td>1</td>\n",
       "      <td>1191</td>\n",
       "      <td>MAX RANDOLPH</td>\n",
       "      <td>M</td>\n",
       "      <td>29</td>\n",
       "      <td>WASHINGTON</td>\n",
       "      <td>DC</td>\n",
       "      <td>16:48</td>\n",
       "      <td>5:25</td>\n",
       "      <td>1 of 78</td>\n",
       "      <td>21-39</td>\n",
       "      <td>1 of 33</td>\n",
       "      <td>0:08</td>\n",
       "      <td>16:56</td>\n",
       "    </tr>\n",
       "    <tr>\n",
       "      <th>1</th>\n",
       "      <td>2</td>\n",
       "      <td>1080</td>\n",
       "      <td>NEED NAME KAISER RUNNER</td>\n",
       "      <td>M</td>\n",
       "      <td>25</td>\n",
       "      <td>PORTLAND</td>\n",
       "      <td>OR</td>\n",
       "      <td>17:31</td>\n",
       "      <td>5:39</td>\n",
       "      <td>2 of 78</td>\n",
       "      <td>21-39</td>\n",
       "      <td>2 of 33</td>\n",
       "      <td>0:09</td>\n",
       "      <td>17:40</td>\n",
       "    </tr>\n",
       "    <tr>\n",
       "      <th>2</th>\n",
       "      <td>3</td>\n",
       "      <td>1275</td>\n",
       "      <td>DAN FRANEK</td>\n",
       "      <td>M</td>\n",
       "      <td>52</td>\n",
       "      <td>PORTLAND</td>\n",
       "      <td>OR</td>\n",
       "      <td>18:15</td>\n",
       "      <td>5:53</td>\n",
       "      <td>3 of 78</td>\n",
       "      <td>40-54</td>\n",
       "      <td>1 of 27</td>\n",
       "      <td>0:07</td>\n",
       "      <td>18:22</td>\n",
       "    </tr>\n",
       "    <tr>\n",
       "      <th>3</th>\n",
       "      <td>4</td>\n",
       "      <td>1223</td>\n",
       "      <td>PAUL TAYLOR</td>\n",
       "      <td>M</td>\n",
       "      <td>54</td>\n",
       "      <td>PORTLAND</td>\n",
       "      <td>OR</td>\n",
       "      <td>18:31</td>\n",
       "      <td>5:58</td>\n",
       "      <td>4 of 78</td>\n",
       "      <td>40-54</td>\n",
       "      <td>2 of 27</td>\n",
       "      <td>0:07</td>\n",
       "      <td>18:38</td>\n",
       "    </tr>\n",
       "    <tr>\n",
       "      <th>4</th>\n",
       "      <td>5</td>\n",
       "      <td>1245</td>\n",
       "      <td>THEO KINMAN</td>\n",
       "      <td>M</td>\n",
       "      <td>22</td>\n",
       "      <td>NaN</td>\n",
       "      <td>NaN</td>\n",
       "      <td>19:31</td>\n",
       "      <td>6:17</td>\n",
       "      <td>5 of 78</td>\n",
       "      <td>21-39</td>\n",
       "      <td>3 of 33</td>\n",
       "      <td>0:09</td>\n",
       "      <td>19:40</td>\n",
       "    </tr>\n",
       "  </tbody>\n",
       "</table>\n",
       "</div>"
      ],
      "text/plain": [
       "  Place   Bib                     Name Gender Age        City State Chip Time  \\\n",
       "0     1  1191             MAX RANDOLPH      M  29  WASHINGTON    DC     16:48   \n",
       "1     2  1080  NEED NAME KAISER RUNNER      M  25    PORTLAND    OR     17:31   \n",
       "2     3  1275               DAN FRANEK      M  52    PORTLAND    OR     18:15   \n",
       "3     4  1223              PAUL TAYLOR      M  54    PORTLAND    OR     18:31   \n",
       "4     5  1245              THEO KINMAN      M  22         NaN   NaN     19:31   \n",
       "\n",
       "  Chip Pace Gender Place Age Group Age Group Place Time to Start Gun Time  \n",
       "0      5:25      1 of 78     21-39         1 of 33          0:08    16:56  \n",
       "1      5:39      2 of 78     21-39         2 of 33          0:09    17:40  \n",
       "2      5:53      3 of 78     40-54         1 of 27          0:07    18:22  \n",
       "3      5:58      4 of 78     40-54         2 of 27          0:07    18:38  \n",
       "4      6:17      5 of 78     21-39         3 of 33          0:09    19:40  "
      ]
     },
     "execution_count": 352,
     "metadata": {},
     "output_type": "execute_result"
    }
   ],
   "source": [
    "df2 = df.copy()\n",
    "df2[\"Age Group\"] = df2[\"Age Group\"].map(lambda x : str(x)[1:])\n",
    "df2.head()"
   ]
  },
  {
   "cell_type": "code",
   "execution_count": null,
   "metadata": {},
   "outputs": [],
   "source": []
  },
  {
   "cell_type": "code",
   "execution_count": null,
   "metadata": {},
   "outputs": [],
   "source": []
  },
  {
   "cell_type": "code",
   "execution_count": null,
   "metadata": {},
   "outputs": [],
   "source": []
  },
  {
   "cell_type": "code",
   "execution_count": null,
   "metadata": {},
   "outputs": [],
   "source": []
  }
 ],
 "metadata": {
  "interpreter": {
   "hash": "d66d0557afbea81240a3a5d2d5b4599bf8bee2732053be4cc8098b9d77804afa"
  },
  "kernelspec": {
   "display_name": "Python 3.9.6 64-bit",
   "name": "python3"
  },
  "language_info": {
   "codemirror_mode": {
    "name": "ipython",
    "version": 3
   },
   "file_extension": ".py",
   "mimetype": "text/x-python",
   "name": "python",
   "nbconvert_exporter": "python",
   "pygments_lexer": "ipython3",
   "version": "3.9.6"
  },
  "orig_nbformat": 4
 },
 "nbformat": 4,
 "nbformat_minor": 2
}
